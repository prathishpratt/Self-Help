{
 "cells": [
  {
   "cell_type": "markdown",
   "id": "1b05be7c",
   "metadata": {},
   "source": [
    "<h1><center>\n",
    "Virtual Environment Self guide (for Mac M1 chip)\n",
    "</center></h1>\n",
    "\n",
    "### Prathish Murugan\n",
    "### 26-Jun-2022"
   ]
  },
  {
   "cell_type": "markdown",
   "id": "ada1f477",
   "metadata": {},
   "source": [
    "### https://www.youtube.com/watch?v=oZjau-aUk0U\n",
    "This is the best one stop solution for tensorflow errors as tf isnt supported for the M1. \n",
    "\n",
    "\n",
    "#### You can skip the homebrew and conda(MiniForge) installation if you have it.\n",
    "To check if you have it, just type `conda --version`"
   ]
  },
  {
   "cell_type": "markdown",
   "id": "5c3e848d",
   "metadata": {},
   "source": [
    "## Create a virtual environment  \n",
    "\n",
    "`conda create -n your_environment_name`  \n",
    "\n",
    "or  \n",
    "\n",
    "`conda create -- your_environment python=3.9`"
   ]
  },
  {
   "cell_type": "markdown",
   "id": "f7888110",
   "metadata": {},
   "source": [
    "## List all the environment \n",
    "`conda env list`"
   ]
  },
  {
   "cell_type": "markdown",
   "id": "3833aeeb",
   "metadata": {},
   "source": [
    "## Activate Environment. \n",
    "To go to virtual env: `conda activate your_environment_name`  \n",
    "\n",
    "To go to base: `conda activate base`"
   ]
  },
  {
   "cell_type": "markdown",
   "id": "40cee336",
   "metadata": {},
   "source": [
    "## Deactivate Environment   \n",
    "\n",
    "Just type: `deactivate` or `conda deactivate`"
   ]
  },
  {
   "cell_type": "markdown",
   "id": "515255c1",
   "metadata": {},
   "source": [
    "## Tensorflow installation  \n",
    "\n",
    "Other libraries are easy to install, just `pip install numpy`, but for tensorflow, we need to follow more steps as it is not supported for M1.  \n",
    "\n",
    "Open the youtube link in the cell above and just follow the same. Few steps would be shorter for us, those no dependency problem anol I did not face. \n",
    "\n",
    "Then check with `import tensorflow as tf`, If no error then fine. \n",
    "\n",
    "Also, check the version of tf, `tf.__version__`"
   ]
  },
  {
   "cell_type": "markdown",
   "id": "a544b0b5",
   "metadata": {},
   "source": [
    "## Extra Resources\n",
    "\n",
    "https://developer.apple.com/metal/tensorflow-plugin/  \n",
    "\n",
    "https://www.youtube.com/watch?v=2Acht_5_HTo  \n",
    "\n",
    "https://notebooks.githubusercontent.com/view/ipynb?browser=chrome&color_mode=auto&commit=089deb61fc27a82ec3809850c0b9026e977aec3f&device=unknown&enc_url=68747470733a2f2f7261772e67697468756275736572636f6e74656e742e636f6d2f6a656666686561746f6e2f7438315f3535385f646565705f6c6561726e696e672f303839646562363166633237613832656333383039383530633062393032366539373761656333662f696e7374616c6c2f74656e736f72666c6f772d696e7374616c6c2d6d61632d6d6574616c2d6a756c2d323032312e6970796e62&logged_in=false&nwo=jeffheaton%2Ft81_558_deep_learning&path=install%2Ftensorflow-install-mac-metal-jul-2021.ipynb&platform=android&repository_id=64573324&repository_type=Repository&version=99"
   ]
  }
 ],
 "metadata": {
  "kernelspec": {
   "display_name": "Python 3 (ipykernel)",
   "language": "python",
   "name": "python3"
  },
  "language_info": {
   "codemirror_mode": {
    "name": "ipython",
    "version": 3
   },
   "file_extension": ".py",
   "mimetype": "text/x-python",
   "name": "python",
   "nbconvert_exporter": "python",
   "pygments_lexer": "ipython3",
   "version": "3.9.13"
  }
 },
 "nbformat": 4,
 "nbformat_minor": 5
}
