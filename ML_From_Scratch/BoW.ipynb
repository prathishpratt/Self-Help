{
 "cells": [
  {
   "cell_type": "markdown",
   "metadata": {},
   "source": [
    "#### Bag of Words Implementation\n",
    "\n",
    "Parts\n",
    "- Tokenize the sentences and get the vocab size\n",
    "- Create the feature matrix with zeros and word-position mapping in dict\n",
    "- Convert each tokenized sentence into BoW array\n",
    "\n",
    "##### Step-1 Tokenize"
   ]
  },
  {
   "cell_type": "code",
   "execution_count": 5,
   "metadata": {},
   "outputs": [],
   "source": [
    "from nltk.tokenize import word_tokenize\n",
    "import numpy as np\n",
    "\n",
    "data = ['She loves pizza, pizza is delicious.','She is a good person.','good people are the best.']\n",
    "\n",
    "vocab = set()\n",
    "def tokenize(doc):\n",
    "    sent = []\n",
    "    tokens = word_tokenize(doc)\n",
    "    for i in tokens:\n",
    "        if i.isalnum():\n",
    "            sent.append(i.lower())\n",
    "            vocab.add(i.lower())\n",
    "    return sent\n",
    "\n",
    "corpus = []\n",
    "for i in data:\n",
    "    corpus.append(tokenize(i))"
   ]
  },
  {
   "cell_type": "code",
   "execution_count": 11,
   "metadata": {},
   "outputs": [
    {
     "data": {
      "text/plain": [
       "['delicious',\n",
       " 'people',\n",
       " 'pizza',\n",
       " 'are',\n",
       " 'is',\n",
       " 'person',\n",
       " 'best',\n",
       " 'good',\n",
       " 'loves',\n",
       " 'the',\n",
       " 'she',\n",
       " 'a']"
      ]
     },
     "execution_count": 11,
     "metadata": {},
     "output_type": "execute_result"
    }
   ],
   "source": [
    "vocab = list(vocab)\n",
    "vocab"
   ]
  },
  {
   "cell_type": "code",
   "execution_count": 7,
   "metadata": {},
   "outputs": [
    {
     "data": {
      "text/plain": [
       "[['she', 'loves', 'pizza', 'pizza', 'is', 'delicious'],\n",
       " ['she', 'is', 'a', 'good', 'person'],\n",
       " ['good', 'people', 'are', 'the', 'best']]"
      ]
     },
     "execution_count": 7,
     "metadata": {},
     "output_type": "execute_result"
    }
   ],
   "source": [
    "corpus"
   ]
  },
  {
   "cell_type": "markdown",
   "metadata": {},
   "source": [
    "#### Step -2 Feature Matrix and mapping dict"
   ]
  },
  {
   "cell_type": "code",
   "execution_count": 14,
   "metadata": {},
   "outputs": [
    {
     "data": {
      "text/plain": [
       "{'delicious': 0,\n",
       " 'people': 1,\n",
       " 'pizza': 2,\n",
       " 'are': 3,\n",
       " 'is': 4,\n",
       " 'person': 5,\n",
       " 'best': 6,\n",
       " 'good': 7,\n",
       " 'loves': 8,\n",
       " 'the': 9,\n",
       " 'she': 10,\n",
       " 'a': 11}"
      ]
     },
     "execution_count": 14,
     "metadata": {},
     "output_type": "execute_result"
    }
   ],
   "source": [
    "# mapping\n",
    "mapping = {}\n",
    "\n",
    "for i in range(0,len(vocab)):\n",
    "    mapping[vocab[i]] = i\n",
    "\n",
    "mapping"
   ]
  },
  {
   "cell_type": "code",
   "execution_count": 15,
   "metadata": {},
   "outputs": [
    {
     "data": {
      "text/plain": [
       "array([[0., 0., 0., 0., 0., 0., 0., 0., 0., 0., 0., 0.],\n",
       "       [0., 0., 0., 0., 0., 0., 0., 0., 0., 0., 0., 0.],\n",
       "       [0., 0., 0., 0., 0., 0., 0., 0., 0., 0., 0., 0.]])"
      ]
     },
     "execution_count": 15,
     "metadata": {},
     "output_type": "execute_result"
    }
   ],
   "source": [
    "#feature matrix is just a stacking of bow of each sentences\n",
    "bow = np.zeros((len(corpus), len(vocab)))\n",
    "bow"
   ]
  },
  {
   "cell_type": "markdown",
   "metadata": {},
   "source": [
    "#### Step 3 Fill feature matrix with BoW count"
   ]
  },
  {
   "cell_type": "code",
   "execution_count": 16,
   "metadata": {},
   "outputs": [
    {
     "data": {
      "text/plain": [
       "array([[1., 0., 2., 0., 1., 0., 0., 0., 1., 0., 1., 0.],\n",
       "       [0., 0., 0., 0., 1., 1., 0., 1., 0., 0., 1., 1.],\n",
       "       [0., 1., 0., 1., 0., 0., 1., 1., 0., 1., 0., 0.]])"
      ]
     },
     "execution_count": 16,
     "metadata": {},
     "output_type": "execute_result"
    }
   ],
   "source": [
    "def BoW(corpus, bow, mapping):\n",
    "    \n",
    "    for i in range(0,len(corpus)):\n",
    "        for j in corpus[i]:\n",
    "            bow[i][mapping[j]] +=1\n",
    "    \n",
    "    return bow \n",
    "\n",
    "bow = BoW(corpus, bow, mapping)\n",
    "bow            "
   ]
  }
 ],
 "metadata": {
  "kernelspec": {
   "display_name": "langchainllm",
   "language": "python",
   "name": "python3"
  },
  "language_info": {
   "codemirror_mode": {
    "name": "ipython",
    "version": 3
   },
   "file_extension": ".py",
   "mimetype": "text/x-python",
   "name": "python",
   "nbconvert_exporter": "python",
   "pygments_lexer": "ipython3",
   "version": "3.11.4"
  }
 },
 "nbformat": 4,
 "nbformat_minor": 2
}
